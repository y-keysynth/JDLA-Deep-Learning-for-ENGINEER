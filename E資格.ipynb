{
  "nbformat": 4,
  "nbformat_minor": 0,
  "metadata": {
    "colab": {
      "name": "E資格.ipynb",
      "provenance": [],
      "authorship_tag": "ABX9TyNSkyAhdEHXucgCqiYVL4cP",
      "include_colab_link": true
    },
    "kernelspec": {
      "name": "python3",
      "display_name": "Python 3"
    },
    "language_info": {
      "name": "python"
    }
  },
  "cells": [
    {
      "cell_type": "markdown",
      "metadata": {
        "id": "view-in-github",
        "colab_type": "text"
      },
      "source": [
        "<a href=\"https://colab.research.google.com/github/y-keysynth/JDLA-Deep-Learning-for-ENGINEER/blob/main/E%E8%B3%87%E6%A0%BC.ipynb\" target=\"_parent\"><img src=\"https://colab.research.google.com/assets/colab-badge.svg\" alt=\"Open In Colab\"/></a>"
      ]
    },
    {
      "cell_type": "markdown",
      "metadata": {
        "id": "fhZuo2trwsw6"
      },
      "source": [
        "行列の計算"
      ]
    },
    {
      "cell_type": "code",
      "metadata": {
        "colab": {
          "base_uri": "https://localhost:8080/"
        },
        "id": "EaVmGwnwwuhV",
        "outputId": "bdd5f370-c7d3-47c7-985c-88bae6dfcc08"
      },
      "source": [
        "import numpy as np\n",
        "w = np.array([\n",
        "              [1,2,3],\n",
        "              [4,5,6]\n",
        "])\n",
        "x = np.array([\n",
        "    [7],\n",
        "    [8],\n",
        "    [9]\n",
        "])\n",
        "a = w.dot(x)\n",
        "a"
      ],
      "execution_count": 8,
      "outputs": [
        {
          "output_type": "execute_result",
          "data": {
            "text/plain": [
              "array([[ 50],\n",
              "       [122]])"
            ]
          },
          "metadata": {},
          "execution_count": 8
        }
      ]
    }
  ]
}
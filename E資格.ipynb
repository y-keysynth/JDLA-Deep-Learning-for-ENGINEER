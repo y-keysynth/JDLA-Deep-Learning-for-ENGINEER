{
  "nbformat": 4,
  "nbformat_minor": 0,
  "metadata": {
    "colab": {
      "name": "E資格.ipynb",
      "provenance": [],
      "authorship_tag": "ABX9TyM7+ZJAqssQcpcIBr3IcIBg",
      "include_colab_link": true
    },
    "kernelspec": {
      "name": "python3",
      "display_name": "Python 3"
    },
    "language_info": {
      "name": "python"
    }
  },
  "cells": [
    {
      "cell_type": "markdown",
      "metadata": {
        "id": "view-in-github",
        "colab_type": "text"
      },
      "source": [
        "<a href=\"https://colab.research.google.com/github/y-keysynth/JDLA-Deep-Learning-for-ENGINEER/blob/main/E%E8%B3%87%E6%A0%BC.ipynb\" target=\"_parent\"><img src=\"https://colab.research.google.com/assets/colab-badge.svg\" alt=\"Open In Colab\"/></a>"
      ]
    },
    {
      "cell_type": "code",
      "metadata": {
        "id": "DpdxZWGCuJJi",
        "colab": {
          "base_uri": "https://localhost:8080/"
        },
        "outputId": "0f222508-47dc-4ff2-ce5c-1cbfc7874655"
      },
      "source": [
        "print(\"hello\")"
      ],
      "execution_count": 1,
      "outputs": [
        {
          "output_type": "stream",
          "text": [
            "hello\n"
          ],
          "name": "stdout"
        }
      ]
    }
  ]
}
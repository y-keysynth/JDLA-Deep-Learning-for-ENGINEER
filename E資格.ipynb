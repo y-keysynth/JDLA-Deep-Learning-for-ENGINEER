{
  "nbformat": 4,
  "nbformat_minor": 0,
  "metadata": {
    "colab": {
      "name": "E資格.ipynb",
      "provenance": [],
      "collapsed_sections": [],
      "authorship_tag": "ABX9TyOvFriOHqFufK3qpn5wItWG",
      "include_colab_link": true
    },
    "kernelspec": {
      "name": "python3",
      "display_name": "Python 3"
    },
    "language_info": {
      "name": "python"
    }
  },
  "cells": [
    {
      "cell_type": "markdown",
      "metadata": {
        "id": "view-in-github",
        "colab_type": "text"
      },
      "source": [
        "<a href=\"https://colab.research.google.com/github/y-keysynth/JDLA-Deep-Learning-for-ENGINEER/blob/main/E%E8%B3%87%E6%A0%BC.ipynb\" target=\"_parent\"><img src=\"https://colab.research.google.com/assets/colab-badge.svg\" alt=\"Open In Colab\"/></a>"
      ]
    },
    {
      "cell_type": "markdown",
      "metadata": {
        "id": "NLswzIRNt1bD"
      },
      "source": [
        "超AI入門講座\n",
        "オライリージャパン deep learning"
      ]
    },
    {
      "cell_type": "markdown",
      "metadata": {
        "id": "P8zO_phht-gj"
      },
      "source": [
        "シグモイド関数\n",
        "\n",
        "$S(x)=11+exp(−x)S(x)=11+exp(−x)$ \n",
        "\n"
      ]
    },
    {
      "cell_type": "code",
      "metadata": {
        "colab": {
          "base_uri": "https://localhost:8080/"
        },
        "id": "kZBn8GLzwS9-",
        "outputId": "23ac610a-ef42-461e-ae1a-e5eeb1a8cb8c"
      },
      "source": [
        "import numpy as np\n",
        "np.exp(1)\n",
        "\n",
        "1 / (1 + np.exp(-x))"
      ],
      "execution_count": null,
      "outputs": [
        {
          "output_type": "execute_result",
          "data": {
            "text/plain": [
              "0.5"
            ]
          },
          "metadata": {},
          "execution_count": 5
        }
      ]
    },
    {
      "cell_type": "code",
      "metadata": {
        "id": "KrOVVCxUzFA2",
        "colab": {
          "base_uri": "https://localhost:8080/",
          "height": 265
        },
        "outputId": "0d3a9f6e-3346-4472-fdf1-808792b8a33b"
      },
      "source": [
        "import numpy as np\n",
        "import matplotlib.pyplot as plt\n",
        "\n",
        "def sigmoid(x):\n",
        "  return 1 / (1 + np.exp(-x))\n",
        "\n",
        "x = np.arange(-10, 10, 0.01)\n",
        "y = sigmoid(x)\n",
        "\n",
        "plt.clf()\n",
        "plt.plot(x, y, \"r\")\n",
        "plt.grid(True)\n",
        "plt.show()\n"
      ],
      "execution_count": null,
      "outputs": [
        {
          "output_type": "display_data",
          "data": {
            "image/png": "[encoded data removed]",
            "text/plain": [
              "<Figure size 432x288 with 1 Axes>"
            ]
          },
          "metadata": {
            "needs_background": "light"
          }
        }
      ]
    },
    {
      "cell_type": "code",
      "metadata": {
        "colab": {
          "base_uri": "https://localhost:8080/"
        },
        "id": "Foveujns0H-k",
        "outputId": "39cb5a09-2990-452f-b1fe-c54e3e97c8f2"
      },
      "source": [
        "import numpy as np\n",
        "import matplotlib.pyplot as plt\n",
        "\n",
        "w = np.array([[7,4],[-2, -3]])\n",
        "x = np.array([[7],[4]])\n",
        "b = np.array([[1],[25]])\n",
        "a = w.dot(x) + b\n",
        "\n",
        "def sigmoid(x):\n",
        "  return 1 / (1 + np.exp(-x))\n",
        "\n",
        "y = sigmoid(a)\n",
        "\n",
        "y\n"
      ],
      "execution_count": 21,
      "outputs": [
        {
          "output_type": "execute_result",
          "data": {
            "text/plain": [
              "array([[1.        ],\n",
              "       [0.26894142]])"
            ]
          },
          "metadata": {},
          "execution_count": 21
        }
      ]
    },
    {
      "cell_type": "markdown",
      "metadata": {
        "id": "Y22j7H0etmMo"
      },
      "source": [
        "\n",
        "ラビットチャレンジ ・スタートテスト \n",
        "---\n",
        "\n"
      ]
    },
    {
      "cell_type": "markdown",
      "metadata": {
        "id": "h8xX7gY20m_F"
      },
      "source": [
        "2x3の行列のデータ（全要素０の生成）"
      ]
    },
    {
      "cell_type": "code",
      "metadata": {
        "colab": {
          "base_uri": "https://localhost:8080/"
        },
        "id": "EX2KWSmE0SBw",
        "outputId": "319a8e32-3e31-4236-d9a6-65c8ef9e2f85"
      },
      "source": [
        "import numpy as np\n",
        "np.zeros((2,3))"
      ],
      "execution_count": null,
      "outputs": [
        {
          "output_type": "execute_result",
          "data": {
            "text/plain": [
              "array([[0., 0., 0.],\n",
              "       [0., 0., 0.]])"
            ]
          },
          "metadata": {},
          "execution_count": 18
        }
      ]
    },
    {
      "cell_type": "markdown",
      "metadata": {
        "id": "fhZuo2trwsw6"
      },
      "source": [
        "行列の計算  \n",
        "https://deepage.net/features/numpy-dot.html"
      ]
    },
    {
      "cell_type": "code",
      "metadata": {
        "colab": {
          "base_uri": "https://localhost:8080/"
        },
        "id": "EaVmGwnwwuhV",
        "outputId": "bdd5f370-c7d3-47c7-985c-88bae6dfcc08"
      },
      "source": [
        "import numpy as np\n",
        "w = np.array([\n",
        "              [1,2,3],\n",
        "              [4,5,6]\n",
        "])\n",
        "x = np.array([\n",
        "    [7],\n",
        "    [8],\n",
        "    [9]\n",
        "])\n",
        "a = w.dot(x)\n",
        "a"
      ],
      "execution_count": null,
      "outputs": [
        {
          "output_type": "execute_result",
          "data": {
            "text/plain": [
              "array([[ 50],\n",
              "       [122]])"
            ]
          },
          "metadata": {},
          "execution_count": 8
        }
      ]
    },
    {
      "cell_type": "code",
      "metadata": {
        "id": "Y--XmYpiy2Vv"
      },
      "source": [
        "import folium\n",
        "folium.Map(location=[35, 120])"
      ],
      "execution_count": null,
      "outputs": []
    },
    {
      "cell_type": "code",
      "metadata": {
        "colab": {
          "base_uri": "https://localhost:8080/"
        },
        "id": "OYjlxB69hG1h",
        "outputId": "2564362d-d524-4e28-aca9-6804bd40f9a2"
      },
      "source": [
        "import numpy as np\n",
        "from keras.datasets import mnist\n",
        "(x_train, y_train), (x_test, y_test) = mnist.load_data()\n",
        "x_train.shape\n",
        "x_train.ndim"
      ],
      "execution_count": null,
      "outputs": [
        {
          "output_type": "execute_result",
          "data": {
            "text/plain": [
              "3"
            ]
          },
          "metadata": {},
          "execution_count": 4
        }
      ]
    },
    {
      "cell_type": "code",
      "metadata": {
        "colab": {
          "base_uri": "https://localhost:8080/",
          "height": 111
        },
        "id": "u1xNicqPhZh8",
        "outputId": "33ee0826-fc5e-487d-fb45-c26176845289"
      },
      "source": [
        "import pandas as pd\n",
        "import numpy as np\n",
        "data = pd.DataFrame({\n",
        "    \"col1\": [1, 2, None, np.nan],\n",
        "    \"col2\": [1.2, 2.3, None, np.nan],\n",
        "    \"col3\": [\"aaa\", \"bbb\", None, np.nan]\n",
        "})\n",
        "data\n",
        "data.isna()\n",
        "data.dropna()"
      ],
      "execution_count": null,
      "outputs": [
        {
          "output_type": "execute_result",
          "data": {
            "text/html": [
              "<div>\n",
              "<style scoped>\n",
              "    .dataframe tbody tr th:only-of-type {\n",
              "        vertical-align: middle;\n",
              "    }\n",
              "\n",
              "    .dataframe tbody tr th {\n",
              "        vertical-align: top;\n",
              "    }\n",
              "\n",
              "    .dataframe thead th {\n",
              "        text-align: right;\n",
              "    }\n",
              "</style>\n",
              "<table border=\"1\" class=\"dataframe\">\n",
              "  <thead>\n",
              "    <tr style=\"text-align: right;\">\n",
              "      <th></th>\n",
              "      <th>col1</th>\n",
              "      <th>col2</th>\n",
              "      <th>col3</th>\n",
              "    </tr>\n",
              "  </thead>\n",
              "  <tbody>\n",
              "    <tr>\n",
              "      <th>0</th>\n",
              "      <td>1.0</td>\n",
              "      <td>1.2</td>\n",
              "      <td>aaa</td>\n",
              "    </tr>\n",
              "    <tr>\n",
              "      <th>1</th>\n",
              "      <td>2.0</td>\n",
              "      <td>2.3</td>\n",
              "      <td>bbb</td>\n",
              "    </tr>\n",
              "  </tbody>\n",
              "</table>\n",
              "</div>"
            ],
            "text/plain": [
              "   col1  col2 col3\n",
              "0   1.0   1.2  aaa\n",
              "1   2.0   2.3  bbb"
            ]
          },
          "metadata": {},
          "execution_count": 5
        }
      ]
    },
    {
      "cell_type": "code",
      "metadata": {
        "colab": {
          "base_uri": "https://localhost:8080/"
        },
        "id": "XJkpG8Ioi_Ac",
        "outputId": "51a00798-d16a-43cd-e297-b86b0a1fa65f"
      },
      "source": [
        "import pandas as pd\n",
        "s = pd.Series([3,2,3,2,2])\n",
        "s2 = pd.Series([2,4,6,8,10])\n",
        "df = pd.concat([s,s2],axis=1)\n",
        "df\n",
        "type(df)"
      ],
      "execution_count": null,
      "outputs": [
        {
          "output_type": "execute_result",
          "data": {
            "text/plain": [
              "pandas.core.frame.DataFrame"
            ]
          },
          "metadata": {},
          "execution_count": 7
        }
      ]
    },
    {
      "cell_type": "code",
      "metadata": {
        "colab": {
          "base_uri": "https://localhost:8080/",
          "height": 282
        },
        "id": "_7IASlBpkzFj",
        "outputId": "919845ee-5f94-4a0c-808d-f3249d5ff5b3"
      },
      "source": [
        "import matplotlib.pyplot as plt\n",
        "import numpy as np\n",
        "from sklearn.model_selection import train_test_split as tts\n",
        "def f(x):\n",
        "  return np.sin(2*np.pi*x)\n",
        "sin_x = np.linspace(0,1,100)\n",
        "x = np.random.rand(100)[:, np.newaxis]\n",
        "y = f(x) + np.random.rand(100)[:, np.newaxis] - 0.5\n",
        "x_train, x_test, y_train, y_test = tts(x, y)\n",
        "plt.plot(sin_x, f(sin_x), \":\")"
      ],
      "execution_count": null,
      "outputs": [
        {
          "output_type": "execute_result",
          "data": {
            "text/plain": [
              "[<matplotlib.lines.Line2D at 0x7f0e4a59eed0>]"
            ]
          },
          "metadata": {},
          "execution_count": 1
        },
        {
          "output_type": "display_data",
          "data": {
            "image/png": "[encoded data removed]",
            "text/plain": [
              "<Figure size 432x288 with 1 Axes>"
            ]
          },
          "metadata": {
            "needs_background": "light"
          }
        }
      ]
    },
    {
      "cell_type": "code",
      "metadata": {
        "colab": {
          "base_uri": "https://localhost:8080/",
          "height": 282
        },
        "id": "cx7KN1hSnR6G",
        "outputId": "3d599465-46e3-46d8-b734-def34f5c4fbc"
      },
      "source": [
        "import matplotlib.pyplot as plt\n",
        "import numpy as np\n",
        "from sklearn.model_selection import train_test_split as tts\n",
        "def f(x):\n",
        "  return np.sin(2*np.pi*x)\n",
        "sin_x = np.linspace(0,1,100)\n",
        "x = np.random.rand(100)[:, np.newaxis]\n",
        "y = f(x) + np.random.rand(100)[:, np.newaxis] - 0.5\n",
        "x_train, x_test, y_train, y_test = tts(x, y)\n",
        "plt.scatter(x_train, y_train)"
      ],
      "execution_count": null,
      "outputs": [
        {
          "output_type": "execute_result",
          "data": {
            "text/plain": [
              "<matplotlib.collections.PathCollection at 0x7f92bdd778d0>"
            ]
          },
          "metadata": {},
          "execution_count": 41
        },
        {
          "output_type": "display_data",
          "data": {
            "image/png": "[encoded data removed]",
            "text/plain": [
              "<Figure size 432x288 with 1 Axes>"
            ]
          },
          "metadata": {
            "needs_background": "light"
          }
        }
      ]
    },
    {
      "cell_type": "code",
      "metadata": {
        "colab": {
          "base_uri": "https://localhost:8080/",
          "height": 512
        },
        "id": "CT9BbiXqlxpL",
        "outputId": "5ea50295-94a5-416f-dd81-386c87db18c1"
      },
      "source": [
        "import seaborn as sns\n",
        "iris = sns.load_dataset(\"iris\")\n",
        "type(iris)\n",
        "sns.jointplot(\"sepal_width\", \"petal_length\", data=iris)"
      ],
      "execution_count": null,
      "outputs": [
        {
          "output_type": "stream",
          "text": [
            "/usr/local/lib/python3.7/dist-packages/seaborn/_decorators.py:43: FutureWarning: Pass the following variables as keyword args: x, y. From version 0.12, the only valid positional argument will be `data`, and passing other arguments without an explicit keyword will result in an error or misinterpretation.\n",
            "  FutureWarning\n"
          ],
          "name": "stderr"
        },
        {
          "output_type": "execute_result",
          "data": {
            "text/plain": [
              "<seaborn.axisgrid.JointGrid at 0x7f0e08af3310>"
            ]
          },
          "metadata": {},
          "execution_count": 8
        },
        {
          "output_type": "display_data",
          "data": {
            "image/png": "[encoded data removed]",
            "text/plain": [
              "<Figure size 432x432 with 3 Axes>"
            ]
          },
          "metadata": {
            "needs_background": "light"
          }
        }
      ]
    },
    {
      "cell_type": "code",
      "metadata": {
        "colab": {
          "base_uri": "https://localhost:8080/"
        },
        "id": "e4slITV7nw9_",
        "outputId": "9faa9597-d63c-40b4-f1b5-b05af5cedde5"
      },
      "source": [
        "from sklearn import  datasets\n",
        "from sklearn import svm\n",
        "digits = datasets.load_digits()\n",
        "dataset = digits.data\n",
        "target = digits.target\n",
        "train_dataset = dataset[:-10]\n",
        "train_target = target[:-10]\n",
        "test_dataset = dataset[-10:]\n",
        "test_target = target[-10:]\n",
        "clf = svm.SVC(gamma=0.001, C=100)\n",
        "clf.fit(train_dataset, train_target)\n",
        "clf.predict(test_dataset)"
      ],
      "execution_count": null,
      "outputs": [
        {
          "output_type": "execute_result",
          "data": {
            "text/plain": [
              "array([5, 4, 8, 8, 4, 9, 0, 8, 9, 8])"
            ]
          },
          "metadata": {},
          "execution_count": 61
        }
      ]
    },
    {
      "cell_type": "code",
      "metadata": {
        "colab": {
          "base_uri": "https://localhost:8080/",
          "height": 265
        },
        "id": "zearFvO7pEnR",
        "outputId": "f6999a83-40f1-43f1-cd73-0d4bb0325909"
      },
      "source": [
        "from sklearn import datasets, linear_model\n",
        "import matplotlib.pyplot as plt\n",
        "iris = datasets.load_iris()\n",
        "x = iris.data[:,0]\n",
        "y = iris.data[:,2]\n",
        "model = linear_model.LinearRegression()\n",
        "model.fit(x.reshape(-1,1),y)\n",
        "plt.scatter(x,y)\n",
        "plt.plot(x,model.predict(x.reshape(-1,1)))\n",
        "plt.show()"
      ],
      "execution_count": null,
      "outputs": [
        {
          "output_type": "display_data",
          "data": {
            "image/png": "[encoded data removed]",
            "text/plain": [
              "<Figure size 432x288 with 1 Axes>"
            ]
          },
          "metadata": {
            "needs_background": "light"
          }
        }
      ]
    },
    {
      "cell_type": "code",
      "metadata": {
        "colab": {
          "base_uri": "https://localhost:8080/",
          "height": 279
        },
        "id": "YTCg0L4erzz_",
        "outputId": "ef45e1f4-c76b-4c84-9a12-a2c9dfb4d654"
      },
      "source": [
        "import matplotlib.pyplot as plt\n",
        "from sklearn import cluster, datasets\n",
        "iris = datasets.load_iris()\n",
        "data = iris.data\n",
        "model = cluster.KMeans(n_clusters=3)\n",
        "model.fit(data)\n",
        "labels = model.labels_\n",
        "ldata = data[labels == 0]\n",
        "plt.scatter(ldata[:,2],ldata[:,3],color=\"green\")\n",
        "ldata = data[labels == 1]\n",
        "plt.scatter(ldata[:,2],ldata[:,3],color=\"red\")\n",
        "ldata = data[labels == 2]\n",
        "plt.scatter(ldata[:,2],ldata[:,3],color=\"blue\")\n",
        "plt.xlabel(iris[\"feature_names\"][2])\n",
        "plt.ylabel(iris[\"feature_names\"][3])\n",
        "plt.show()\n"
      ],
      "execution_count": null,
      "outputs": [
        {
          "output_type": "display_data",
          "data": {
            "image/png": "[encoded data removed]",
            "text/plain": [
              "<Figure size 432x288 with 1 Axes>"
            ]
          },
          "metadata": {
            "needs_background": "light"
          }
        }
      ]
    },
    {
      "cell_type": "code",
      "metadata": {
        "colab": {
          "base_uri": "https://localhost:8080/"
        },
        "id": "I1byYUEftSZk",
        "outputId": "4fe012af-f821-4126-c780-e3331222e628"
      },
      "source": [
        "  np.array([[1,4,7],[2,5,8],[3,6,9]]\n",
        "  )"
      ],
      "execution_count": null,
      "outputs": [
        {
          "output_type": "execute_result",
          "data": {
            "text/plain": [
              "array([[1, 4, 7],\n",
              "       [2, 5, 8],\n",
              "       [3, 6, 9]])"
            ]
          },
          "metadata": {},
          "execution_count": 102
        }
      ]
    },
    {
      "cell_type": "code",
      "metadata": {
        "colab": {
          "base_uri": "https://localhost:8080/"
        },
        "id": "Prv7nc2uy7XW",
        "outputId": "62f17ef9-f305-4641-8e52-f4c542d5d26f"
      },
      "source": [
        "import numpy as np\n",
        "x = np.array([[1,2], [3,4]])\n",
        "w = np.array([[8,7],[6,5]])\n",
        "x.dot(w)"
      ],
      "execution_count": null,
      "outputs": [
        {
          "output_type": "execute_result",
          "data": {
            "text/plain": [
              "array([[20, 17],\n",
              "       [48, 41]])"
            ]
          },
          "metadata": {},
          "execution_count": 103
        }
      ]
    },
    {
      "cell_type": "markdown",
      "metadata": {
        "id": "Uv4gNLSj8IDU"
      },
      "source": [
        "平均二乗誤差"
      ]
    },
    {
      "cell_type": "code",
      "metadata": {
        "id": "bwFb7E6dzyF0",
        "colab": {
          "base_uri": "https://localhost:8080/"
        },
        "outputId": "1f1d51d4-b44d-413e-a757-d01b68562b49"
      },
      "source": [
        "import numpy as np\n",
        "\n",
        "y = np.array([0.2, 0.8])\n",
        "t = np.array([0.1, 0.9])\n",
        "\n",
        "def mean_squared_error(y, t):\n",
        "  return 0.5 * np.sum((y - t) ** 2)\n",
        "\n",
        "E = mean_squared_error(y, t)\n",
        "E"
      ],
      "execution_count": null,
      "outputs": [
        {
          "output_type": "execute_result",
          "data": {
            "text/plain": [
              "0.009999999999999998"
            ]
          },
          "metadata": {},
          "execution_count": 29
        }
      ]
    },
    {
      "cell_type": "code",
      "metadata": {
        "colab": {
          "base_uri": "https://localhost:8080/"
        },
        "id": "UOxGON84AAdt",
        "outputId": "7b38c49f-785e-4ca1-a0be-e17bb21cd4ff"
      },
      "source": [
        "from sklearn.metrics import mean_squared_error\n",
        "y_true = [[4],[3]]\n",
        "y_pred = [[2],[1]]\n",
        "mean_squared_error(y_true, y_pred)"
      ],
      "execution_count": null,
      "outputs": [
        {
          "output_type": "execute_result",
          "data": {
            "text/plain": [
              "4.0"
            ]
          },
          "metadata": {},
          "execution_count": 26
        }
      ]
    }
  ]
}